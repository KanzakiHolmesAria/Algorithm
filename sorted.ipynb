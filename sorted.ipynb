{
 "cells": [
  {
   "cell_type": "markdown",
   "metadata": {},
   "source": [
    "# 排序\n",
    "**多关键字排序**：可以通过数字组合成单关键字的排序  \n",
    "**排序的稳定性**：关键字可能出现key1 == key2的情况，如排序前两关键字相等的记录的先后顺序和排序后没有发生变化，则称为**稳定排序**，否则为**不稳定排序**    \n",
    "**内排序和外排序**：待排序的所有记录全部放置在内存中的排序为**内排序**，由于记录太多，不能同时放置在内存中，需要在内外存之间多次交换数据则称为**外排序**  \n",
    "\n",
    "**内排序的算法性能影响因素**：\n",
    "- **时间性能**：内排序主要进行两种操作：*比较*和*移动（交换）*\n",
    "- **辅助空间**：指除了存放待排序所占用的存储空间之外，执行算法需要的其它存储空间\n",
    "- **算法复杂度**：排序算法主要分为4类，7种：插入排序（直接插入排序、希尔排序）、交换排序（冒泡排序、快速排序）、选择排序（简单选择排序、堆排序）和归并排序。其中冒泡、简单选择、直接插入排序为简单算法，其余为复杂算法。"
   ]
  },
  {
   "cell_type": "markdown",
   "metadata": {},
   "source": [
    "### 定义一个交换元素的方法，便于排序过程中调用"
   ]
  },
  {
   "cell_type": "code",
   "execution_count": 2,
   "metadata": {},
   "outputs": [],
   "source": [
    "def swap(L, a, b):\n",
    "    # L[a] = L[a] ^ L[b]\n",
    "    # L[b] = L[a] ^ L[b]\n",
    "    # L[a] = L[a] ^ L[b]\n",
    "    temp = L[a]\n",
    "    L[a] = L[b]\n",
    "    L[b] = temp"
   ]
  },
  {
   "cell_type": "markdown",
   "metadata": {},
   "source": [
    "## 一、 交换排序"
   ]
  },
  {
   "cell_type": "markdown",
   "metadata": {},
   "source": [
    "## 1. 冒泡排序(Bubble Sort)\n",
    "**基本思想**：两两比较相邻记录的关键字，如果反序则交换，直到没有反序的记录。**时间复杂度**O(n^2)"
   ]
  },
  {
   "cell_type": "code",
   "execution_count": 4,
   "metadata": {},
   "outputs": [],
   "source": [
    "def bubble_sort(L):\n",
    "    i = 0\n",
    "    length = len(L)\n",
    "    flag = True # flag作为标识符\n",
    "    while i < length - 1 and flag: # i遍历第一条记录递增至倒数第二条记录\n",
    "        flag = False # 如果下面循环一直未交换，则flag = Flase，说明数组已有序，则退出i的循环\n",
    "        j = length - 1\n",
    "        while j > i: # j遍历最后一条记录递减至i的后一条记录\n",
    "            if L[j] < L[j - 1]: # 如果前一条记录大于后一条记录，说明反序\n",
    "                swap(L,j, j - 1) # 反序则交换两数\n",
    "                flag = True # 发生交换则flag变为True\n",
    "            j -= 1\n",
    "        i += 1        "
   ]
  },
  {
   "cell_type": "markdown",
   "metadata": {},
   "source": [
    "### 测试"
   ]
  },
  {
   "cell_type": "code",
   "execution_count": 5,
   "metadata": {},
   "outputs": [
    {
     "name": "stdout",
     "output_type": "stream",
     "text": [
      "Wall time: 16.9 s\n"
     ]
    }
   ],
   "source": [
    "L = list(range(10000))[::-1]\n",
    "%time bubble_sort(L)"
   ]
  },
  {
   "cell_type": "markdown",
   "metadata": {},
   "source": [
    "## 2. 快速排序"
   ]
  },
  {
   "cell_type": "markdown",
   "metadata": {},
   "source": [
    "## 二、 选择排序"
   ]
  },
  {
   "cell_type": "markdown",
   "metadata": {},
   "source": [
    "## 1. 简单选择排序(Simple Selection Sort)\n",
    "**基本思想**：通过 n - i 次比较，从 n - i + 1个记录中选择出关键字最小的记录，并和第i个记录交换。（0 <= i < n)，**时间复杂度**O(n^2)  \n",
    "<font color = red>注意</font>：简单选择排序最大的特点是交换移动数据次数变少，因此节约了相应时间，在性能上略优于冒泡排序"
   ]
  },
  {
   "cell_type": "code",
   "execution_count": 6,
   "metadata": {},
   "outputs": [],
   "source": [
    "def simpleSelection_sort(L):\n",
    "    length = len(L) \n",
    "    for i in range(length): \n",
    "        min = i\n",
    "        j = i + 1\n",
    "        while j < length: # 从 n - i + 1个记录中选择出关键字最小的记录\n",
    "            if L[j] < L[min]:\n",
    "                min = j \n",
    "            j += 1\n",
    "        if min != i:\n",
    "            swap(L, i, min)"
   ]
  },
  {
   "cell_type": "code",
   "execution_count": 7,
   "metadata": {},
   "outputs": [
    {
     "name": "stdout",
     "output_type": "stream",
     "text": [
      "Wall time: 4.98 s\n"
     ]
    }
   ],
   "source": [
    "L = list(range(10000))[::-1]\n",
    "%time simpleSelection_sort(L)"
   ]
  },
  {
   "cell_type": "markdown",
   "metadata": {},
   "source": [
    "## 2. 堆排序"
   ]
  },
  {
   "cell_type": "markdown",
   "metadata": {},
   "source": [
    "## 三、插入排序"
   ]
  },
  {
   "cell_type": "markdown",
   "metadata": {},
   "source": [
    "## 1. 直接插入排序(Straight Insertion Sort)\n",
    "**基本思想**：类似摸扑克牌时的是抓牌方法，每次将一个记录插入到已经排好序的有序表中。 时间复杂度O(n^2)  \n",
    "<font color = red>注意</font>：它需要一个记录的辅助空间，平均性能略优于冒泡和简单选择排序"
   ]
  },
  {
   "cell_type": "code",
   "execution_count": 36,
   "metadata": {},
   "outputs": [],
   "source": [
    "def straightInsertion_sort(L):\n",
    "    length = len(L) \n",
    "    for i in range(length - 1):\n",
    "        if L[i] > L[i + 1]:\n",
    "            record = L[i + 1] # record用于记录待插入数\n",
    "            j = i\n",
    "            while L[j] > record and j >= 0: # 将待插入数左侧的大于待插入数的记录全部右移一个单位\n",
    "                L[j + 1] = L[j]\n",
    "                j -= 1\n",
    "            L[j + 1] = record # 空出的位置插入record"
   ]
  },
  {
   "cell_type": "code",
   "execution_count": 35,
   "metadata": {},
   "outputs": [
    {
     "name": "stdout",
     "output_type": "stream",
     "text": [
      "Wall time: 7.7 s\n"
     ]
    }
   ],
   "source": [
    "L = list(range(10000))[::-1]\n",
    "%time straightInsertion_sort(L)"
   ]
  },
  {
   "cell_type": "code",
   "execution_count": null,
   "metadata": {},
   "outputs": [],
   "source": []
  }
 ],
 "metadata": {
  "kernelspec": {
   "display_name": "Python 3",
   "language": "python",
   "name": "python3"
  },
  "language_info": {
   "codemirror_mode": {
    "name": "ipython",
    "version": 3
   },
   "file_extension": ".py",
   "mimetype": "text/x-python",
   "name": "python",
   "nbconvert_exporter": "python",
   "pygments_lexer": "ipython3",
   "version": "3.6.7"
  }
 },
 "nbformat": 4,
 "nbformat_minor": 2
}
