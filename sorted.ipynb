{
 "cells": [
  {
   "cell_type": "markdown",
   "metadata": {},
   "source": [
    "# 排序\n",
    "**多关键字排序**：可以通过数字组合成单关键字的排序  \n",
    "**排序的稳定性**：关键字可能出现key1 == key2的情况，如排序前两关键字相等的记录的先后顺序和排序后没有发生变化，则称为**稳定排序**，否则为**不稳定排序**    \n",
    "**内排序和外排序**：待排序的所有记录全部放置在内存中的排序为**内排序**，由于记录太多，不能同时放置在内存中，需要在内外存之间多次交换数据则称为**外排序**  \n",
    "\n",
    "**内排序的算法性能影响因素**：\n",
    "- **时间性能**：内排序主要进行两种操作：*比较*和*移动（交换）*\n",
    "- **辅助空间**：指除了存放待排序所占用的存储空间之外，执行算法需要的其它存储空间\n",
    "- **算法复杂度**：排序算法主要分为4类，7种：插入排序（直接插入排序、希尔排序）、交换排序（冒泡排序、快速排序）、选择排序（简单选择排序、堆排序）和归并排序。其中冒泡、简单选择、直接插入排序为简单算法，其余为复杂算法。"
   ]
  },
  {
   "cell_type": "markdown",
   "metadata": {},
   "source": [
    "### 定义一个交换元素的方法，便于排序过程中调用"
   ]
  },
  {
   "cell_type": "code",
   "execution_count": 6,
   "metadata": {},
   "outputs": [],
   "source": [
    "def swap(L, a, b):\n",
    "    # L[a] = L[a] ^ L[b]\n",
    "    # L[b] = L[a] ^ L[b]\n",
    "    # L[a] = L[a] ^ L[b]\n",
    "    temp = L[a]\n",
    "    L[a] = L[b]\n",
    "    L[b] = temp"
   ]
  },
  {
   "cell_type": "markdown",
   "metadata": {},
   "source": [
    "## 一、 交换排序"
   ]
  },
  {
   "cell_type": "markdown",
   "metadata": {},
   "source": [
    "## 1. 冒泡排序(Bubble Sort)\n",
    "**基本思想**：两两比较相邻记录的关键字，如果反序则交换，直到没有反序的记录。**时间复杂度**O(n^2),稳定排序"
   ]
  },
  {
   "cell_type": "code",
   "execution_count": 4,
   "metadata": {},
   "outputs": [],
   "source": [
    "def bubble_sort(L):\n",
    "    i = 0\n",
    "    length = len(L)\n",
    "    flag = True # flag作为标识符\n",
    "    while i < length - 1 and flag: # i遍历第一条记录递增至倒数第二条记录\n",
    "        flag = False # 如果下面循环一直未交换，则flag = Flase，说明数组已有序，则退出i的循环\n",
    "        j = length - 1\n",
    "        while j > i: # j遍历最后一条记录递减至i的后一条记录\n",
    "            if L[j] < L[j - 1]: # 如果前一条记录大于后一条记录，说明反序\n",
    "                swap(L,j, j - 1) # 反序则交换两数\n",
    "                flag = True # 发生交换则flag变为True\n",
    "            j -= 1\n",
    "        i += 1        "
   ]
  },
  {
   "cell_type": "markdown",
   "metadata": {},
   "source": [
    "### 测试"
   ]
  },
  {
   "cell_type": "code",
   "execution_count": 5,
   "metadata": {},
   "outputs": [
    {
     "name": "stdout",
     "output_type": "stream",
     "text": [
      "Wall time: 16.9 s\n"
     ]
    }
   ],
   "source": [
    "L = list(range(10000))[::-1]\n",
    "%time bubble_sort(L)"
   ]
  },
  {
   "cell_type": "markdown",
   "metadata": {},
   "source": [
    "## 2. 快速排序(Quick Sort)\n",
    "**基本思想**：通过一趟排序将记录分割成独立的两部分，分割点称作枢轴（pivot），左边一部分都比pivotkey小，右边一部分都比pivotkey大，对左右两部分进行相同分割操作，直至有序。时间复杂度O(nlogn) - O(n^2)，空间复杂度O(logn) - O(n)，不稳定排序  \n",
    "<font color = red>注意</font>：快排的优化包括以下几个方面：  \n",
    "\n",
    "1. 优化选择pivot：由于pivot最理想的选择是选取序列的中间数，因此可以用“三数取中法”（比较left、right和mid的key，取中间值作为left的值）等方法\n",
    "2. 优化不必要的交换（代码中已提现）\n",
    "3. 优化递归操作（采用尾递归，代码中已提现）\n",
    "4. 优化小数组时的排序方案：当序列长度较小时，快排的效率不如简单排序（冒泡、插入），因此函数开始可以先判断下序列长度）"
   ]
  },
  {
   "cell_type": "code",
   "execution_count": 10,
   "metadata": {},
   "outputs": [],
   "source": [
    "def quick_sort(L, left, right):\n",
    "#     if(left < right):\n",
    "#         pivot = partition(L, left, right)\n",
    "#         quick_sort(L, left, pivot)\n",
    "#         quick_sort(L, pivot + 1, right)\n",
    "    \"\"\"\n",
    "    优化：用循环代替一次递归，减少栈内存\n",
    "    \"\"\"\n",
    "    while(left < right):\n",
    "        pivot = partition(L, left, right)\n",
    "        quick_sort(L, left, pivot - 1)\n",
    "        left = pivot + 1 # 尾递归"
   ]
  },
  {
   "cell_type": "code",
   "execution_count": 11,
   "metadata": {},
   "outputs": [],
   "source": [
    "def partition(L, left, right):\n",
    "    record = L[left] # 序列最左值作为pivot初始值（注意是L[left]而不是L[0]，因为递归时最左边值还可能是pivot + 1\n",
    "    while left < right:\n",
    "        while left < right and L[right] >= record: # 从右边开始找小于pivotkey的记录（注意循环条件要加上left < right）\n",
    "            right -= 1\n",
    "        L[left] = L[right] # 直接赋值而非交换，优化了不必要的交换\n",
    "        while left < right and L[left] <= record: # 从左边开始找大于pivotkey的记录（注意循环条件要加上left < right）\n",
    "            left += 1\n",
    "        L[right] = L[left] # 直接赋值而非交换，优化了不必要的交换\n",
    "    L[left] = record # 返回分割后序列\n",
    "    return left # 返回pivot值"
   ]
  },
  {
   "cell_type": "code",
   "execution_count": 163,
   "metadata": {},
   "outputs": [],
   "source": [
    "\"\"\"\n",
    "将排序函数写为单输入的形式（和其他排序算法形式统一）\n",
    "\"\"\"\n",
    "def quick_sort1(L):\n",
    "    quick_sort(L, 0, len(L) - 1)"
   ]
  },
  {
   "cell_type": "markdown",
   "metadata": {},
   "source": [
    "### 测试"
   ]
  },
  {
   "cell_type": "code",
   "execution_count": 9,
   "metadata": {},
   "outputs": [
    {
     "name": "stdout",
     "output_type": "stream",
     "text": [
      "Wall time: 46.1 ms\n"
     ]
    }
   ],
   "source": [
    "L = list(range(1000))[::-1]\n",
    "%time quick_sort1(L)"
   ]
  },
  {
   "cell_type": "markdown",
   "metadata": {},
   "source": [
    "## 二、 选择排序"
   ]
  },
  {
   "cell_type": "markdown",
   "metadata": {},
   "source": [
    "## 1. 简单选择排序(Simple Selection Sort)\n",
    "**基本思想**：通过 n - i 次比较，从 n - i + 1个记录中选择出关键字最小的记录，并和第i个记录交换。（0 <= i < n)，**时间复杂度**O(n^2)，稳定排序  \n",
    "<font color = red>注意</font>：简单选择排序最大的特点是交换移动数据次数变少，因此节约了相应时间，在性能上略优于冒泡排序"
   ]
  },
  {
   "cell_type": "code",
   "execution_count": 6,
   "metadata": {},
   "outputs": [],
   "source": [
    "def simpleSelection_sort(L):\n",
    "    length = len(L) \n",
    "    for i in range(length): \n",
    "        min = i\n",
    "        j = i + 1\n",
    "        while j < length: # 从 n - i + 1个记录中选择出关键字最小的记录\n",
    "            if L[j] < L[min]:\n",
    "                min = j \n",
    "            j += 1\n",
    "        if min != i:\n",
    "            swap(L, i, min)"
   ]
  },
  {
   "cell_type": "code",
   "execution_count": 7,
   "metadata": {},
   "outputs": [
    {
     "name": "stdout",
     "output_type": "stream",
     "text": [
      "Wall time: 4.98 s\n"
     ]
    }
   ],
   "source": [
    "L = list(range(10000))[::-1]\n",
    "%time simpleSelection_sort(L)"
   ]
  },
  {
   "cell_type": "markdown",
   "metadata": {},
   "source": [
    "## 2. 堆排序(Heap Sort)\n",
    "**核心思想**：将待排序的序列构造成大顶堆，此时序列的最大值就是对顶的根结点。将它和堆的末尾元素交换，此时末尾元素就是最大值。然后对剩余的n - 1个元素的序列重新构造成堆，重复上述操作，最终可以得到一个有序序列。**时间复杂度**O(nlogn)，不稳定排序  \n",
    "<font color = red>注意</font>：堆排序对原始记录的排序状态不敏感，无论最好、最坏、平均时间复杂度均一样  \n",
    "&emsp;&emsp;&emsp;堆排序构建初始堆所需的比较次数较多，不适合待排序序列个数较少的情况"
   ]
  },
  {
   "cell_type": "markdown",
   "metadata": {},
   "source": [
    "### “堆”数据结构\n",
    "堆是具有下列性质的完全二叉树：\n",
    "1. 每个结点值都大于等于其左右孩结点的值，称为**大顶堆**，都小于等于的称为**小顶堆**\n",
    "2. （完全二叉树的性质）约定最上层根结点编号从0开始，按层序遍历的方式，根结点i的左孩编号为2i+1,右孩编号为2i+2  \n",
    "\n",
    "*堆可以用数组表示*"
   ]
  },
  {
   "cell_type": "code",
   "execution_count": 119,
   "metadata": {},
   "outputs": [],
   "source": [
    "\"\"\"\n",
    "调整根节点的位置，使整个序列构成大顶堆（必须满足条件：左右子树均是大顶堆）\n",
    "\"\"\"\n",
    "def heapAdjust(L, root, length): \n",
    "    while root < length: # 如果根结点没有越界\n",
    "        maxium = root \n",
    "        left = root * 2 + 1 # 左孩结点下标\n",
    "        right = root * 2 + 2 # 右孩结点下标\n",
    "        if left < length:\n",
    "            if L[left] > L[maxium]:\n",
    "                maxium = left\n",
    "        if right < length:\n",
    "            if L[right] > L[maxium]:\n",
    "                maxium = right\n",
    "        if root != maxium: # 如果根节点不是最大值：\n",
    "            swap(L, root, maxium) # 交换\n",
    "            root = maxium  # 循环继续\n",
    "        else: #如果根节点是最大值，跳出循环\n",
    "            break\n",
    "\"\"\"\n",
    "堆排序，包括两部分：1，构造大顶堆； 2，将堆顶元素放到数组最后\n",
    "\"\"\"\n",
    "def heap_sort(L):\n",
    "# 1, 由下至上构造大顶堆\n",
    "    length = len(L)\n",
    "    i = length // 2 - 1 # 最后一个非叶子结点计算公式\n",
    "    while i >= 0:\n",
    "        heapAdjust(L, i, length)\n",
    "        i -= 1\n",
    "# 2，将堆顶元素和序列最后一个元素交换，并构造前n-1个序列为大顶堆（此时，只有根结点不符合大顶堆规则，可以用headAdjust函数构造）\n",
    "    j = length - 1\n",
    "    while j > 0:\n",
    "        swap(L, 0, j)\n",
    "        heapAdjust(L, 0, j)\n",
    "        j -= 1"
   ]
  },
  {
   "cell_type": "code",
   "execution_count": 120,
   "metadata": {},
   "outputs": [
    {
     "name": "stdout",
     "output_type": "stream",
     "text": [
      "Wall time: 67.5 ms\n"
     ]
    }
   ],
   "source": [
    "L = list(range(10000))[::-1]\n",
    "%time heap_sort(L)"
   ]
  },
  {
   "cell_type": "markdown",
   "metadata": {},
   "source": [
    "## 三、插入排序"
   ]
  },
  {
   "cell_type": "markdown",
   "metadata": {},
   "source": [
    "## 1. 直接插入排序(Straight Insertion Sort)\n",
    "**基本思想**：类似摸扑克牌时的是抓牌方法，每次将一个记录插入到已经排好序的有序表中。 时间复杂度O(n^2)，稳定排序  \n",
    "<font color = red>注意</font>：它需要一个记录的辅助空间，平均性能略优于冒泡和简单选择排序"
   ]
  },
  {
   "cell_type": "code",
   "execution_count": 2,
   "metadata": {},
   "outputs": [],
   "source": [
    "def straightInsertion_sort(L):\n",
    "    length = len(L) \n",
    "    for i in range(length - 1):\n",
    "        if L[i] > L[i + 1]:\n",
    "            record = L[i + 1] # record用于记录待插入数\n",
    "            j = i\n",
    "            while L[j] > record and j >= 0: # 将待插入数左侧的大于待插入数的记录全部右移一个单位\n",
    "                L[j + 1] = L[j]\n",
    "                j -= 1\n",
    "            L[j + 1] = record # 空出的位置插入record"
   ]
  },
  {
   "cell_type": "code",
   "execution_count": 3,
   "metadata": {},
   "outputs": [
    {
     "name": "stdout",
     "output_type": "stream",
     "text": [
      "Wall time: 7.61 s\n"
     ]
    }
   ],
   "source": [
    "L = list(range(10000))[::-1]\n",
    "%time straightInsertion_sort(L)"
   ]
  },
  {
   "cell_type": "markdown",
   "metadata": {},
   "source": [
    "## 补. 折半插入排序\n",
    "**基本思想**：在直接插入排序的基础上，第i+1个数的插入过程并非从第i个数递减查找，而是通过折半（二分）查找实现。"
   ]
  },
  {
   "cell_type": "markdown",
   "metadata": {},
   "source": [
    "## 2. 希尔排序（Shell Sort）\n",
    "**基本思想**：  改进插入排序相邻数相比较的算法，采用变化的increment作为间隔，让相隔incremnet的记录组成子序列进行排序，再合成，通过变化的increment让序列越来越有序，最后increment减小为1，相当于对基本有序序列做直接插入排序，从而优化性能。时间复杂度O(^3/2)-O(n^2)，不稳定排序  \n",
    "<font color = red>注意</font>：希尔排序的时间复杂度与increment的选取有关"
   ]
  },
  {
   "cell_type": "code",
   "execution_count": 78,
   "metadata": {},
   "outputs": [],
   "source": [
    "def shell_sort(L):\n",
    "    length = len(L)\n",
    "    increment = length\n",
    "    while increment > 1:\n",
    "        increment = increment // 3 + 1 # 定义增量increment变化形式\n",
    "        for i in range(increment, length): # 对第 0+increment个元素向后的元素进行间隔插入\n",
    "            if L[i] < L[i - increment]: # 如果子序列反序，进行间隔直接插入排序\n",
    "                record = L[i]                    ######################## \n",
    "                j = i - increment                ###                  ###\n",
    "                while L[j] > record and j >= 0: ### 间隔直接插入排序 ###\n",
    "                    L[j + increment] = L[j]      ###                  ### \n",
    "                    j -= increment               ###                  ###\n",
    "                L[j + increment] = record        ######################## "
   ]
  },
  {
   "cell_type": "code",
   "execution_count": 80,
   "metadata": {},
   "outputs": [
    {
     "name": "stdout",
     "output_type": "stream",
     "text": [
      "Wall time: 29.8 ms\n"
     ]
    }
   ],
   "source": [
    "L = list(range(10000))[::-1]\n",
    "%time shell_sort(L) "
   ]
  },
  {
   "cell_type": "markdown",
   "metadata": {},
   "source": [
    "## 四、归并排序(Merging Sort)"
   ]
  },
  {
   "cell_type": "markdown",
   "metadata": {},
   "source": [
    "## 1. 递归法\n",
    "**基本思想**：分而治之，先将序列两两分割至n个只含一个序列的数列，再两两按序合并。时间复杂度O(nlogn)，空间复杂度O(n+logn),稳定排序  \n",
    "<font color = red>注意</font>：归并排序是一种比较占内存，但效率高且稳定的算法"
   ]
  },
  {
   "cell_type": "code",
   "execution_count": 104,
   "metadata": {},
   "outputs": [],
   "source": [
    "\"\"\"\n",
    "自顶而下，先由2路分割，再通过merge_recursion函数排序合并\n",
    "\"\"\"\n",
    "def merging_sort_recursion(L, left, right):\n",
    "    if left < right:\n",
    "        mid = (left + right) // 2 # 中间指针定义\n",
    "        merging_sort_recursion(L, left, mid) # 拆分左序列 \n",
    "        merging_sort_recursion(L, mid + 1, right) # 拆分右序列\n",
    "        merge(L,left, mid, right) # 排序\n",
    "\"\"\"\n",
    "利用两个临时数组排序\n",
    "\"\"\"\n",
    "def merge(L, left, mid, right):\n",
    "    n1 = mid - left + 1 # 临时左序列长度\n",
    "    n2 = right - mid # 临时右序列长度\n",
    "    LL = [0] * n1 # 生成LeftList\n",
    "    RL = [0] * n2 # 生成RightList\n",
    "    for i in range(0 , n1): # 拷贝数据至临时左序列 \n",
    "        LL[i] = L[left + i]  # 注意下标从 i + left 开始（而非i）\n",
    "    for j in range(0 , n2):  # 拷贝数据至临时右序列\n",
    "        RL[j] = L[mid + 1 + j] # 注意下标从 mid + 1 + j 开始(而非j)\n",
    "    i = 0 # 初始化临时左序列的指针\n",
    "    j = 0 # 初始化临时右序列的指针\n",
    "    k = left # 注意归并数组初始化指针从left开始（而非0）\n",
    "    while i < n1 and j < n2: # 将LL和LR中的每个元素进行比较，较小的放入L中\n",
    "        if LL[i] <= RL[j]:\n",
    "            L[k] = LL[i]\n",
    "            i += 1\n",
    "        if LL[i] > RL[j]:\n",
    "            L[k] = RL[j]\n",
    "            j += 1\n",
    "        k += 1 \n",
    "    # 拷贝LL或RL中剩下的元素至L，完成排序合并\n",
    "    while j < n2:\n",
    "        L[k] = RL[j]\n",
    "        j += 1\n",
    "        k += 1\n",
    "    while i < n1:\n",
    "        L[k] = LL[i]\n",
    "        i += 1\n",
    "        k += 1"
   ]
  },
  {
   "cell_type": "code",
   "execution_count": 105,
   "metadata": {},
   "outputs": [],
   "source": [
    "\"\"\"\n",
    "将排序函数写为单输入的形式（和其他排序算法形式统一）\n",
    "\"\"\"\n",
    "def merging_sort1(L):\n",
    "    merging_sort_recursion(L, 0, len(L) - 1)"
   ]
  },
  {
   "cell_type": "code",
   "execution_count": 106,
   "metadata": {},
   "outputs": [
    {
     "name": "stdout",
     "output_type": "stream",
     "text": [
      "Wall time: 54.1 ms\n"
     ]
    }
   ],
   "source": [
    "L = list(range(10000))[::-1]\n",
    "%time merging_sort1(L)"
   ]
  },
  {
   "cell_type": "markdown",
   "metadata": {},
   "source": [
    "## 2. 非递归法\n",
    "时间复杂度O(nlogn)，空间复杂度O(n),避免了用于递归的O(logn)的栈空间，稳定排序  \n",
    "<font color = red>注意</font>：使用归并排序时，应尽量考虑用非递归方法"
   ]
  },
  {
   "cell_type": "code",
   "execution_count": 107,
   "metadata": {},
   "outputs": [],
   "source": [
    "\"\"\"\n",
    "自底向上，将长度为size的相邻记录排序合并，并不断倍增size，最终合并成一个有序序列\n",
    "\"\"\"\n",
    "def merging_sort2(L):\n",
    "    length = len(L)\n",
    "    size = 1 # size为待合并序列的长度，初始为1\n",
    "    while size < length: # 计算待合并序列的left，mid和right值\n",
    "        left = 0 \n",
    "        while left + size <= length - 1: # 当 右边序列存在时，合并\n",
    "            mid = left + size - 1\n",
    "            right = mid + size\n",
    "            if right > length - 1: # 如果右边序列长度不足size，则取完序列\n",
    "                right = length -1\n",
    "            merge(L, left, mid, right)\n",
    "            left = right + 1 # 两两合并循环条件\n",
    "        size *= 2 # size倍增"
   ]
  },
  {
   "cell_type": "code",
   "execution_count": 108,
   "metadata": {},
   "outputs": [
    {
     "name": "stdout",
     "output_type": "stream",
     "text": [
      "Wall time: 54 ms\n"
     ]
    }
   ],
   "source": [
    "L = list(range(10000))[::-1]\n",
    "%time merging_sort2(L)"
   ]
  },
  {
   "cell_type": "code",
   "execution_count": null,
   "metadata": {},
   "outputs": [],
   "source": []
  },
  {
   "cell_type": "code",
   "execution_count": null,
   "metadata": {},
   "outputs": [],
   "source": []
  }
 ],
 "metadata": {
  "kernelspec": {
   "display_name": "Python 3",
   "language": "python",
   "name": "python3"
  },
  "language_info": {
   "codemirror_mode": {
    "name": "ipython",
    "version": 3
   },
   "file_extension": ".py",
   "mimetype": "text/x-python",
   "name": "python",
   "nbconvert_exporter": "python",
   "pygments_lexer": "ipython3",
   "version": "3.6.7"
  }
 },
 "nbformat": 4,
 "nbformat_minor": 2
}
