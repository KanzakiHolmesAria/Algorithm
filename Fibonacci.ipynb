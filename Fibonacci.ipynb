{
 "cells": [
  {
   "cell_type": "markdown",
   "metadata": {},
   "source": [
    "# 斐波那契数列"
   ]
  },
  {
   "cell_type": "markdown",
   "metadata": {},
   "source": [
    "## 递归法：O($\\left(\\frac{\\sqrt{5}+1}{2}\\right)^{n}$)，空间复杂度也是O(n)【递归栈】"
   ]
  },
  {
   "cell_type": "code",
   "execution_count": 56,
   "metadata": {},
   "outputs": [],
   "source": [
    "def fib_1(n):\n",
    "    if n == 1:return 1\n",
    "    if n == 2:return 1\n",
    "    else:return fib_1(n -1) + fib_1(n - 2)"
   ]
  },
  {
   "cell_type": "code",
   "execution_count": 57,
   "metadata": {},
   "outputs": [
    {
     "name": "stdout",
     "output_type": "stream",
     "text": [
      "1 1 2 3 5 8 13 21 34 "
     ]
    }
   ],
   "source": [
    "for i in range(1, 10):\n",
    "    print(fib_1(i), end = ' ')"
   ]
  },
  {
   "cell_type": "markdown",
   "metadata": {},
   "source": [
    "## 数组法：O(n)，但空间复杂度也是O(n)"
   ]
  },
  {
   "cell_type": "code",
   "execution_count": 33,
   "metadata": {},
   "outputs": [],
   "source": [
    "def fib_2(n):\n",
    "    temp = [1] * (n + 1)\n",
    "    k = 2\n",
    "    while n >= k:\n",
    "        temp[k] = temp[k - 1] + temp[k - 2]\n",
    "        k += 1\n",
    "    return temp[n]"
   ]
  },
  {
   "cell_type": "code",
   "execution_count": 35,
   "metadata": {},
   "outputs": [
    {
     "name": "stdout",
     "output_type": "stream",
     "text": [
      "1 1 2 3 5 8 13 21 34 "
     ]
    }
   ],
   "source": [
    "for i in range(0, 9):\n",
    "    print(fib_2(i), end = ' ')"
   ]
  },
  {
   "cell_type": "markdown",
   "metadata": {},
   "source": [
    "## 迭代法（辗转相加）：O(n)，空间复杂度O(1)"
   ]
  },
  {
   "cell_type": "code",
   "execution_count": 36,
   "metadata": {},
   "outputs": [],
   "source": [
    "def fib_3(n):\n",
    "    s1 = 1\n",
    "    s2 = 1\n",
    "    k = 3\n",
    "    while k <= n:\n",
    "        s2 = s1 + s2\n",
    "        s1 = s2 - s1\n",
    "        k += 1\n",
    "    return s2"
   ]
  },
  {
   "cell_type": "code",
   "execution_count": 37,
   "metadata": {},
   "outputs": [
    {
     "name": "stdout",
     "output_type": "stream",
     "text": [
      "1 1 2 3 5 8 13 21 34 "
     ]
    }
   ],
   "source": [
    "for i in range(0, 9):\n",
    "    print(fib_2(i), end = ' ')"
   ]
  },
  {
   "cell_type": "markdown",
   "metadata": {},
   "source": [
    "## 矩阵法 : O(logn)！！！\n",
    "----\n",
    "### 原理：$\\left[\\begin{array}{ll}{F(k)} & {F(k-1) ]=[F(k-1)} & {F(k-2)}\\end{array}\\right]\\left[\\begin{array}{cc}{1} & {1} \\\\ {1} & {0}\\end{array}\\right]$  \n",
    "### 从而：$\\left[\\begin{array}{ll}{F(k)} & {F(k-1) ]=[F(1)} & {F(2)}\\end{array}\\right]\\left[\\begin{array}{cc}{1} & {1} \\\\ {1} & {0}\\end{array}\\right]^{k-2}$\n",
    "### 从而问题关键在于求解矩阵${A}^{k}$，等价于如下问题："
   ]
  },
  {
   "cell_type": "markdown",
   "metadata": {},
   "source": [
    "----\n",
    "### 求解10的75次方（分治法）\n",
    "#### 思路：75的二进制表示形式为1001011\n",
    "#### ${10}^{75}={10}^{64}*{10}^{8}*{10}^{2}*{10}^{1}$\n",
    "#### 分治法思想：${10}^{k}=\\left({{10}^{{k}/{2}}}\\right)^2$"
   ]
  },
  {
   "cell_type": "code",
   "execution_count": 42,
   "metadata": {},
   "outputs": [],
   "source": [
    "'''a_b()为求a的b次方的函数'''\n",
    "def a_b(a, b):\n",
    "    res = 1  # res为迭乘项\n",
    "    while b != 0:\n",
    "        if b & 1 == 1:  # b的末尾为1，说明为待乘项\n",
    "            res *= a\n",
    "        a *= a  # 分治法记录a的1,2,4,8....次幂\n",
    "        b >>= 1  # b右移一位\n",
    "    return res"
   ]
  },
  {
   "cell_type": "code",
   "execution_count": 49,
   "metadata": {},
   "outputs": [
    {
     "data": {
      "text/plain": [
       "1000000000000000000000000000000000000000000000000000000000000000000000000000"
      ]
     },
     "execution_count": 49,
     "metadata": {},
     "output_type": "execute_result"
    }
   ],
   "source": [
    "a_b(10,75)"
   ]
  },
  {
   "cell_type": "markdown",
   "metadata": {},
   "source": [
    "----"
   ]
  },
  {
   "cell_type": "code",
   "execution_count": 71,
   "metadata": {},
   "outputs": [],
   "source": [
    "import numpy as np\n",
    "'''\n",
    "矩阵法求解fibonacci数列的第n项\n",
    "'''\n",
    "def fib_4(n):\n",
    "    L = [1, 1]\n",
    "    A = np.array([[1,1],[1,0]])\n",
    "    if n >= 2:\n",
    "        L = np.dot(L, A_b(A, n - 1))\n",
    "    return int(L[0])\n",
    "'''\n",
    "A_b()为求矩阵A的b次方的函数分治法\n",
    "'''\n",
    "def A_b(A, b):\n",
    "    res = np.eye(2)\n",
    "    while b != 0:\n",
    "        if b & 1 == 1:\n",
    "            res = res @ A\n",
    "        b >>= 1\n",
    "        A = A @ A\n",
    "    return res"
   ]
  },
  {
   "cell_type": "code",
   "execution_count": 72,
   "metadata": {},
   "outputs": [
    {
     "name": "stdout",
     "output_type": "stream",
     "text": [
      "1 1 2 3 5 8 13 21 34 "
     ]
    }
   ],
   "source": [
    "for i in range(0, 9):\n",
    "    print(fib_4(i), end = ' ')"
   ]
  }
 ],
 "metadata": {
  "kernelspec": {
   "display_name": "Python 3",
   "language": "python",
   "name": "python3"
  },
  "language_info": {
   "codemirror_mode": {
    "name": "ipython",
    "version": 3
   },
   "file_extension": ".py",
   "mimetype": "text/x-python",
   "name": "python",
   "nbconvert_exporter": "python",
   "pygments_lexer": "ipython3",
   "version": "3.7.3"
  }
 },
 "nbformat": 4,
 "nbformat_minor": 2
}
