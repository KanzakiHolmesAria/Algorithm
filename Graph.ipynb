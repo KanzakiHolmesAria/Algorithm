{
 "cells": [
  {
   "cell_type": "markdown",
   "metadata": {},
   "source": [
    "# 图的表示方式"
   ]
  },
  {
   "cell_type": "markdown",
   "metadata": {},
   "source": [
    "## 1. 邻接表"
   ]
  },
  {
   "cell_type": "code",
   "execution_count": 1,
   "metadata": {},
   "outputs": [],
   "source": [
    "A,B,C,D,E,F,G,H,I = range(9)\n",
    "graph = {\n",
    "    A: [B, F],\n",
    "    B: [C, I, G],\n",
    "    C: [B, I, D],\n",
    "    D: [C, I, G, H, E],\n",
    "    E: [D, H, F],\n",
    "    F: [A, G, E],\n",
    "    G: [B, F, H, D],\n",
    "    H: [G, D, E],\n",
    "    I: [B, C, D],\n",
    "}"
   ]
  },
  {
   "cell_type": "markdown",
   "metadata": {},
   "source": [
    "## 2. 邻接矩阵(Adjacency Matrix)"
   ]
  },
  {
   "cell_type": "code",
   "execution_count": 2,
   "metadata": {},
   "outputs": [],
   "source": [
    "A,B,C,D,E,F,G,H,I = range(9)\n",
    "INF = float('inf')\n",
    "AM = [[INF]*9 for i in range(9)]\n",
    "for key,values in graph.items():\n",
    "    for i in values:\n",
    "        AM[key][i] = 1\n",
    "for i in range(9):\n",
    "    AM[i][i] = 0"
   ]
  },
  {
   "cell_type": "code",
   "execution_count": 3,
   "metadata": {},
   "outputs": [
    {
     "data": {
      "text/plain": [
       "[[0, 1, inf, inf, inf, 1, inf, inf, inf],\n",
       " [inf, 0, 1, inf, inf, inf, 1, inf, 1],\n",
       " [inf, 1, 0, 1, inf, inf, inf, inf, 1],\n",
       " [inf, inf, 1, 0, 1, inf, 1, 1, 1],\n",
       " [inf, inf, inf, 1, 0, 1, inf, 1, inf],\n",
       " [1, inf, inf, inf, 1, 0, 1, inf, inf],\n",
       " [inf, 1, inf, 1, inf, 1, 0, 1, inf],\n",
       " [inf, inf, inf, 1, 1, inf, 1, 0, inf],\n",
       " [inf, 1, 1, 1, inf, inf, inf, inf, 0]]"
      ]
     },
     "execution_count": 3,
     "metadata": {},
     "output_type": "execute_result"
    }
   ],
   "source": [
    "AM"
   ]
  },
  {
   "cell_type": "markdown",
   "metadata": {},
   "source": [
    "# 图的遍历方式"
   ]
  },
  {
   "cell_type": "markdown",
   "metadata": {},
   "source": [
    "## 1. 广度优先搜索（Bredth_First_Search）_BFS"
   ]
  },
  {
   "cell_type": "code",
   "execution_count": 19,
   "metadata": {},
   "outputs": [],
   "source": [
    "# 利用队列实现\n",
    "# 从起始结点开始依次进入队列，然后弹出\n",
    "# 每次弹出一个结点，就把该结点没有进过队列的邻结点放入队列，直到队列弹出\n",
    "from queue import Queue\n",
    "def BFS(graph, first_node):\n",
    "    if first_node == None:return  # 图为空，直接返回\n",
    "    nodes_searched = set()  # nodes_searched : 集合，存放已遍历过的图。\n",
    "    queue = Queue()\n",
    "    nodes_searched.add(first_node)  # 将起始结点加入集合\n",
    "    queue.put(first_node)  # 将起始结点加入队列，使用put方法\n",
    "    while not queue.empty():\n",
    "        cur = queue.get()  # 队列非空，则弹出队首元素，使用get方法获取弹出元素值\n",
    "        print(cur, end=' ')  # 对当前元素进行操作（打印，可为其他，如赋值...）\n",
    "        for combine_node in graph[cur]:  # combine_node : 弹出结点的相邻结点\n",
    "            if combine_node not in nodes_searched:  # 如果相邻结点不在nodes_search中\n",
    "                nodes_searched.add(combine_node)  # 则加入\n",
    "                queue.put(combine_node)  # 并加入队列"
   ]
  },
  {
   "cell_type": "markdown",
   "metadata": {},
   "source": [
    "## 2. 深度优先搜索（Depth_First_Search）_DFS"
   ]
  },
  {
   "cell_type": "code",
   "execution_count": 5,
   "metadata": {},
   "outputs": [],
   "source": [
    "'''\n",
    "递归版本\n",
    "'''\n",
    "# 从起始结点开始不断访问邻居结点，如果访问过，则退回，换另一条路径访问\n",
    "nodes_searched = set()  # 为了使每次递归时不清空nodes_searched，需写在循环外面\n",
    "def DFS_recursive(graph, start_node):\n",
    "    nodes_searched.add(start_node)\n",
    "    print(start_node, end = ' ')\n",
    "    for combine_node in graph[start_node]:\n",
    "        if combine_node not in nodes_searched:\n",
    "            DFS_recursive(graph, combine_node)"
   ]
  },
  {
   "cell_type": "code",
   "execution_count": 6,
   "metadata": {},
   "outputs": [],
   "source": [
    "'''\n",
    "非递归版本\n",
    "'''\n",
    "# 利用栈实现\n",
    "# 从起始结点把结点放入栈，然后弹出\n",
    "# 每次弹出一个结点，就把该结点没有进过栈的邻结点放入栈，直到栈变空\n",
    "def DFS_stack(graph, start_node):\n",
    "    nodes_searched = set()\n",
    "    stack = []  # 用List的pop和append模拟栈操作\n",
    "    stack.append(start_node)\n",
    "    nodes_searched.add(start_node)\n",
    "    print(start_node, end = ' ')  # 先操作起始结点（打印）\n",
    "    while len(stack) > 0:  # 用列表长度大于0表示集合非空\n",
    "        cur = stack.pop()  # 弹栈\n",
    "        for combine_node in graph[cur]:  # 判断弹栈元素的相邻结点是否在nodes_searched\n",
    "            if combine_node not in nodes_searched:\n",
    "                stack.append(cur)  # 先再次弹入刚弹出的元素！！！！！！！！！！！关键步骤！！！！！！\n",
    "                stack.append(combine_node)  # 接着弹入最相邻的结点\n",
    "                print(combine_node, end = ' ')  # 操作最相邻结点\n",
    "                nodes_searched.add(combine_node)  # 将最相邻结点加入nodes_searched\n",
    "                break  # 当有相邻结点进栈时，停止进栈，寻找该结点的相邻结点！！！！！！！深度优先的核心步骤！！！！！！！！！！"
   ]
  },
  {
   "cell_type": "markdown",
   "metadata": {},
   "source": [
    "### 测试"
   ]
  },
  {
   "cell_type": "code",
   "execution_count": 7,
   "metadata": {},
   "outputs": [
    {
     "name": "stdout",
     "output_type": "stream",
     "text": [
      "A B F C I G E D H \n",
      "A B C I D G F E H \n",
      "A B C I D G F E H "
     ]
    }
   ],
   "source": [
    "GRAPH = {\n",
    "    'A': ['B', 'F'],\n",
    "    'B': ['C', 'I', 'G'],\n",
    "    'C': ['B', 'I', 'D'],\n",
    "    'D': ['C', 'I', 'G', 'H', 'E'],\n",
    "    'E': ['D', 'H', 'F'],\n",
    "    'F': ['A', 'G', 'E'],\n",
    "    'G': ['B', 'F', 'H', 'D'],\n",
    "    'H': ['G', 'D', 'E'],\n",
    "    'I': ['B', 'C', 'D'],\n",
    "}\n",
    "BFS(GRAPH, \"A\")\n",
    "print('')\n",
    "DFS_recursive(GRAPH, \"A\")\n",
    "print('')\n",
    "DFS_stack(GRAPH, \"A\")"
   ]
  },
  {
   "cell_type": "markdown",
   "metadata": {},
   "source": [
    "# 最小生成树\n",
    "----\n",
    "**引例：假设要为一个镇的9个村庄假设通信网络做设计（图的每个结点相当于一个村庄，连接各个村庄需要花费的成本为各条边的权值），问要求该项目的成本最低，该如何设计路线？**\n",
    "\n",
    "----\n",
    "**定义：包含图的N个顶点和N-1条边的连通子图称为生成树**\n",
    "****\n",
    "**Prime法和Kruskal法的比较：Prime法是针对结点展开的，对于稠密图的情况好一些，Kruskal法是针对边展开的，边数少的时候效率会非常高，所以对于稀疏图有很大优势。**"
   ]
  },
  {
   "cell_type": "markdown",
   "metadata": {},
   "source": [
    "## 1. 普里姆（Prim）法\n",
    "----\n",
    "**核心思路：任意选一个结点放入U集合，将剩下的结点放入V集合，寻找连接U和V的最短路径，将V中的该结点放入U中，如此往复，每次都找最近的边，直到V为空。（贪心算法）**\n",
    "****\n",
    "**算法分析：时间复杂度O（${n}^{2}$）,空间复杂度O(n)**  \n",
    "**使用优先队列获取lowCost中的最小值可以将时间复杂度减少到O(nlogn)**"
   ]
  },
  {
   "cell_type": "code",
   "execution_count": 39,
   "metadata": {
    "scrolled": true
   },
   "outputs": [],
   "source": [
    "INF = float('inf')\n",
    "\n",
    "def MiniSpanTree_Prim(graph):\n",
    "    U = [0]  # U存放已连接结点\n",
    "    V = list(range(1, len(graph)))  # V战队，存放未连接结点\n",
    "    tree = []  # Tree记录成本\n",
    "    lowCost = graph[0] # 记录U和V中各点连线距离\n",
    "    while(len(V) > 0):\n",
    "        '''\n",
    "        在V中寻找离U最近的结点的下标，记作min\n",
    "        '''\n",
    "        min = 0  \n",
    "        temp = INF\n",
    "        for i in range(len(lowCost)):\n",
    "            if (i not in U) and  (lowCost[i] < temp):\n",
    "                min = i\n",
    "                temp = lowCost[i]\n",
    "        if lowCost[min] == 0:return False  # 说明列表中只含有0，无解\n",
    "        '''\n",
    "        将该结点从V中移出，放入U中\n",
    "        '''\n",
    "        U.append(min)\n",
    "        V.remove(min)\n",
    "        '''\n",
    "        修改lowCost的值，lowCost记录的是上一个U和V中各点连线的距离，只需比较新加入点和V中各点的距离，取较小值替换lowCost中值即可\n",
    "        '''\n",
    "        tree.append(lowCost[min])\n",
    "        for i in range(len(graph)):\n",
    "            if graph[min][i] < lowCost[i] and i not in U:\n",
    "                lowCost[i] = graph[min][i]\n",
    "    return tree"
   ]
  },
  {
   "cell_type": "code",
   "execution_count": 40,
   "metadata": {},
   "outputs": [],
   "source": [
    "G = [[0, 4, 1, 1],[4, 0, INF, 3],[1, INF, 0, 6],[1, 3, 6, 0]]"
   ]
  },
  {
   "cell_type": "code",
   "execution_count": 41,
   "metadata": {},
   "outputs": [
    {
     "data": {
      "text/plain": [
       "[1, 1, 3]"
      ]
     },
     "execution_count": 41,
     "metadata": {},
     "output_type": "execute_result"
    }
   ],
   "source": [
    "MiniSpanTree_Prim(G)"
   ]
  },
  {
   "cell_type": "markdown",
   "metadata": {},
   "source": [
    "## 2. 克鲁斯卡尔（Kruskal）法\n",
    "----\n",
    "**核心思路：首先将N个结点标记为N类，并将边按权值从小到大排序。每次选择最短边，并将最短边的两个结点归为一类，如此循环，如过两个结点已为一类，则说明该边会形成环路，则跳过，直至边数达到N - 1（生成树定义边数为N -1）**  \n",
    "****\n",
    "**算法分析：对边排序的时间复杂度为O(eloge),合并结点类别的是时间复杂度为O（${n}^{2}$），空间复杂度O(n)**  \n",
    "**使用并查集可以把合并结点类别的时间复杂度降为O(elogn)**"
   ]
  },
  {
   "cell_type": "code",
   "execution_count": 86,
   "metadata": {},
   "outputs": [],
   "source": [
    "INF = float('inf')\n",
    "def MiniSpanTree_Kruskal(graph):\n",
    "    tree = []  # Tree记录成本\n",
    "    length = len(graph)\n",
    "    edges = []  # edges存放Edge类对象，记录每条边的权值和两个结点\n",
    "    index_edges = 0  # edges列表的下表索引，从0开始\n",
    "    Number = [i for i in range(length)]  # Number用于给每个结点编号，初始时每个结点编号等于自身结点号（哈希表思想，Number索引代表结点）\n",
    "    '''\n",
    "    将各条边用Edge对象表示，并按权值排序后存入edges数组\n",
    "    '''\n",
    "    for i in range(length - 1):\n",
    "        for j in  range(i + 1, length):\n",
    "            edges.append(Edge(graph[i][j], i, j))\n",
    "    edges.sort(key = lambda x : x.weight)\n",
    "    '''\n",
    "    循环，每次将最短边的两个结点归为同一编号，如果两个结点已经为同一编号，说明会形成回路，则忽略，直至边长达到最小生成树定义（N - 1）\n",
    "    '''\n",
    "    while len(tree) < length - 1:\n",
    "        min_i, min_j = edges[index_edges].node1, edges[index_edges].node2\n",
    "        if Number[min_i] != Number[min_j]:\n",
    "            tree.append(edges[index_edges].weight)\n",
    "            '''\n",
    "            如果两结点编号不同，则遍历Number数组，将所有编号为两结点编号的结点归同一编号\n",
    "            '''\n",
    "            for i in range(len(Number)):\n",
    "                if Number[i] == Number[min_j]:\n",
    "                    Number[i] = Number[min_i];\n",
    "        index_edges += 1\n",
    "    return tree\n",
    "'''\n",
    "生成一个Edge类，用于存放每条边的权值和相邻两个结点\n",
    "'''\n",
    "class Edge():\n",
    "    def __init__(self, weight, node1, node2):\n",
    "        self.weight = weight\n",
    "        self.node1 = node1\n",
    "        self.node2 = node2"
   ]
  },
  {
   "cell_type": "code",
   "execution_count": 88,
   "metadata": {},
   "outputs": [],
   "source": [
    "G = [[0, 4, 1, 1],[4, 0, INF, 3],[1, INF, 0, 6],[1, 3, 6, 0]]"
   ]
  },
  {
   "cell_type": "code",
   "execution_count": 89,
   "metadata": {},
   "outputs": [
    {
     "data": {
      "text/plain": [
       "[1, 1, 3]"
      ]
     },
     "execution_count": 89,
     "metadata": {},
     "output_type": "execute_result"
    }
   ],
   "source": [
    "MiniSpanTree_Kruskal(G)"
   ]
  },
  {
   "cell_type": "markdown",
   "metadata": {},
   "source": [
    "# 最短路径\n",
    "****\n",
    "**引例：在北上广这类大城市，考虑从A地到B地，如何换乘到达，使得进过的路径最短？如果要求任意城市里任意两地的最短路径呢？**"
   ]
  },
  {
   "cell_type": "markdown",
   "metadata": {},
   "source": [
    "## 1. 迪杰斯特拉（Dijkstra）法\n",
    "****\n",
    "**核心思想：将起始结点放入集合U，将剩下结点放入集合V，初始化shortestPath数组为起始节点至各结点的路径。每次循环将shortestPath中的最短路径结点加入U，并比较借助该节点的相邻结点的最短路径是否变小，如是，则更新shortestPath。**\n",
    "****\n",
    "**算法分析：时间复杂度O(${n}^{2}$)，如果计算任意两两结点间的最短路径，则加一层循环，时间复杂度变为O(${n}^{3}$)**"
   ]
  },
  {
   "cell_type": "code",
   "execution_count": 7,
   "metadata": {},
   "outputs": [],
   "source": [
    "INF = float('inf')\n",
    "def ShortestPath_Dijkstra(graph, start):\n",
    "    '''\n",
    "    初始化定义U、V、前驱、最短路径数组\n",
    "    '''\n",
    "    length = len(graph)\n",
    "    U = [start]\n",
    "    V = [i for i in range(length) if i != start]\n",
    "    forward = [0] * length  # 前驱，用于记录最短路径的连接方式\n",
    "    shortestPath = graph[start]  # 最短路径，用于记录最短路径的值\n",
    "    while len(V) > 0:\n",
    "        '''\n",
    "        查找最短路径的最小值结点\n",
    "        '''\n",
    "        temp = INF\n",
    "        min = start\n",
    "        for i in range(length):\n",
    "            if (i not in U) and (shortestPath[i] < temp):\n",
    "                temp = shortestPath[i]\n",
    "                min = i\n",
    "        if min == start:return False\n",
    "        '''\n",
    "        将最小值结点从V中放入U中\n",
    "        '''\n",
    "        U.append(min)\n",
    "        V.remove(min)\n",
    "        '''\n",
    "        观察min结点的相邻结点通过min的路径是否小于最短路径，如是，则更新shortestPath\n",
    "        '''\n",
    "        for i in range(length):\n",
    "            if (i not in U) and (0 < graph[min][i] < INF) and (graph[min][i] + shortestPath[min] < shortestPath[i]):\n",
    "                shortestPath[i] = graph[min][i] + shortestPath[min]\n",
    "                forward[i] = min\n",
    "    return shortestPath,forward"
   ]
  },
  {
   "cell_type": "code",
   "execution_count": 5,
   "metadata": {},
   "outputs": [],
   "source": [
    "G = [[0,2,4,INF,INF,1],[2,0,2,INF,3,INF],[4,2,0,1,3,5],[INF,INF,1,0,4,5],[INF,3,3,4,0,INF],[1,INF,5,5,INF,0]]"
   ]
  },
  {
   "cell_type": "code",
   "execution_count": 6,
   "metadata": {},
   "outputs": [
    {
     "data": {
      "text/plain": [
       "([0, 2, 4, 5, 5, 1], [0, 0, 0, 2, 1, 0])"
      ]
     },
     "execution_count": 6,
     "metadata": {},
     "output_type": "execute_result"
    }
   ],
   "source": [
    "ShortestPath_Dijkstra(G,0)"
   ]
  },
  {
   "cell_type": "markdown",
   "metadata": {},
   "source": [
    "## 2. 佛洛依德（Floyd）算法\n",
    "****\n",
    "**核心思想：初始化两个矩阵，一个是最短路径矩阵，一个是前驱矩阵。三层循环粗暴遍历：如果start->end的路径 ＞ start -> mid -> end 的路径，则更新最短路径矩阵和前驱矩阵。**\n",
    "****\n",
    "**算法分析：时间复杂度O(${n}^{3}$)，但十分巧妙美观，适用于需求为所有顶点至所有顶点的问题**"
   ]
  },
  {
   "cell_type": "code",
   "execution_count": 73,
   "metadata": {},
   "outputs": [],
   "source": [
    "def ShortestPath_Floyd(graph, begin, final):\n",
    "    length = len(graph)\n",
    "    shortestPath = graph\n",
    "    forword = [list(range(length)) for i in  range(length)]\n",
    "    for start in range(length):\n",
    "        for end in range(length):\n",
    "            for mid in range(length):\n",
    "                if shortestPath[start][end] > shortestPath[start][mid] + shortestPath[mid][end]:\n",
    "                    shortestPath[start][end] = shortestPath[start][mid] + shortestPath[mid][end]\n",
    "                    forword[start][end] = forword[start][mid]\n",
    "#     return shortestPath,forword\n",
    "    print('最短路径长度：', shortestPath[begin][final])\n",
    "    print('路径：', end = '')\n",
    "    key = forword[begin][final]\n",
    "    print(begin, end = '->')\n",
    "    while key != final:\n",
    "        print(key, end = '->')\n",
    "        key = forword[forword[begin][final]][final]\n",
    "    print(key)"
   ]
  },
  {
   "cell_type": "code",
   "execution_count": 74,
   "metadata": {},
   "outputs": [],
   "source": [
    "G = [[0,2,4,INF,INF,1],[2,0,2,INF,3,INF],[4,2,0,1,3,5],[INF,INF,1,0,4,5],[INF,3,3,4,0,INF],[1,INF,5,5,INF,0]]"
   ]
  },
  {
   "cell_type": "code",
   "execution_count": 72,
   "metadata": {},
   "outputs": [
    {
     "name": "stdout",
     "output_type": "stream",
     "text": [
      "最短路径长度： 5\n",
      "路径：0->2->3\n"
     ]
    }
   ],
   "source": [
    "ShortestPath_Floyd(G,0,3)"
   ]
  },
  {
   "cell_type": "markdown",
   "metadata": {},
   "source": [
    "# 拓扑排序\n",
    "****\n",
    "**有向无环图（DAG，Driected Acyclic Graph）的所有顶点的线性序列，满足：**\n",
    "1. 每个顶点只出现一次\n",
    "2. 若存在一条从A->B的路径，则序列中A必须在B前面\n",
    "****\n",
    "**实际应用：用来排序有依赖关系的任务，如工程项目、软件开发、教学安排、电影制作等等项目，一定是无环的有向图**\n",
    "****\n",
    "**核心思想：从DAG中选择一个入度为0的顶点输出，并删去此顶点及其连接的弧，重复此步骤直到图为空（成功）或图中不存在入度为0的结点（失败，有环）**\n",
    "****\n",
    "**算法分析：将初始入度为0的结点置入队列的时间复杂度为O(n)，在队列中进行操作的时间复杂度为O(e)，总计O(n + e)**"
   ]
  },
  {
   "cell_type": "code",
   "execution_count": 115,
   "metadata": {},
   "outputs": [],
   "source": [
    "from queue import Queue\n",
    "def TopologicalSort(graph):\n",
    "    count = 0\n",
    "    inDegree = [0] * len(graph)\n",
    "    for key in graph:\n",
    "        for i in graph[key]:\n",
    "            inDegree[i] += 1\n",
    "    queue = Queue()  # 用于存放入度为0的顶点，避免每个查找都要去遍历入度表查找有没有入度为0的顶点\n",
    "    for i in range(len(inDegree)):\n",
    "        if inDegree[i] == 0:\n",
    "            queue.put(i)\n",
    "    while queue:\n",
    "        temp = queue.get()\n",
    "        print(temp, end = ' ')\n",
    "        count += 1\n",
    "        for i in graph[temp]:\n",
    "            inDegree[i] -= 1\n",
    "            if inDegree[i] == 0:\n",
    "                queue.put(i)\n",
    "    if count != len(graph):return False\n",
    "    else:return True"
   ]
  },
  {
   "cell_type": "code",
   "execution_count": 116,
   "metadata": {},
   "outputs": [],
   "source": [
    "GRAPH = {\n",
    "    0: [],\n",
    "    1: [],\n",
    "    2: [3],\n",
    "    3: [1],\n",
    "    4: [0, 1],\n",
    "    5: [0, 2]\n",
    "}"
   ]
  },
  {
   "cell_type": "code",
   "execution_count": null,
   "metadata": {
    "scrolled": true
   },
   "outputs": [
    {
     "name": "stdout",
     "output_type": "stream",
     "text": [
      "4 5 0 2 3 1 "
     ]
    }
   ],
   "source": [
    "TopologicalSort(GRAPH)"
   ]
  },
  {
   "cell_type": "code",
   "execution_count": null,
   "metadata": {},
   "outputs": [],
   "source": []
  }
 ],
 "metadata": {
  "kernelspec": {
   "display_name": "Python 3",
   "language": "python",
   "name": "python3"
  },
  "language_info": {
   "codemirror_mode": {
    "name": "ipython",
    "version": 3
   },
   "file_extension": ".py",
   "mimetype": "text/x-python",
   "name": "python",
   "nbconvert_exporter": "python",
   "pygments_lexer": "ipython3",
   "version": "3.7.3"
  }
 },
 "nbformat": 4,
 "nbformat_minor": 2
}
